{
 "cells": [
  {
   "cell_type": "code",
   "execution_count": null,
   "metadata": {},
   "outputs": [],
   "source": [
    "### IMPORTS\n",
    "from myDiffQP import *\n",
    "from myScenarios import *"
   ]
  },
  {
   "cell_type": "code",
   "execution_count": null,
   "metadata": {},
   "outputs": [],
   "source": [
    "### CHOOSE SCENARIO\n",
    "# problem = linear_gd.scenario()\n",
    "# problem = linear_gd_2.scenario()\n",
    "problem = nonlinear_gd.scenario()\n",
    "# problem = nonlinear_gd_2.scenario()\n",
    "# problem = nonlinearSlack.scenario()\n",
    "# problem = nonlinearSlackPenalized.scenario()"
   ]
  },
  {
   "cell_type": "code",
   "execution_count": null,
   "metadata": {},
   "outputs": [],
   "source": [
    "### SIMULATION\n",
    "\n",
    "# verbosity\n",
    "verbosity = 1 # choices: 0,1,2\n",
    "\n",
    "# create diffQP object\n",
    "QP = diffQP.diffQP(problem)\n",
    "\n",
    "# main simulation loop\n",
    "simOut = simVar.closedLoop(QP,problem,verbosity)\n",
    "\n",
    "# pack and save\n",
    "simVar.pack(simOut,problem)\n",
    "\n",
    "# cleanup\n",
    "cleanup.cleanup()"
   ]
  },
  {
   "cell_type": "code",
   "execution_count": null,
   "metadata": {},
   "outputs": [],
   "source": [
    "### IMPORT USING PICKlE\n",
    "\n",
    "import pickle\n",
    "\n",
    "file_name = 'Simulations/' + problem['name'] + '.pkl'\n",
    "\n",
    "with open(file_name,'rb') as fp:\n",
    "    data = pickle.load(fp)"
   ]
  },
  {
   "cell_type": "code",
   "execution_count": null,
   "metadata": {},
   "outputs": [],
   "source": [
    "### CLOSED-LOOP PLOTS\n",
    "\n",
    "# save figures\n",
    "saveFig = True\n",
    "\n",
    "# plot\n",
    "plotter.closedLoopPlots(data,problem['plot'],saveFig,problem['name'])"
   ]
  }
 ],
 "metadata": {
  "kernelspec": {
   "display_name": "venv_cplex",
   "language": "python",
   "name": "python3"
  },
  "language_info": {
   "codemirror_mode": {
    "name": "ipython",
    "version": 3
   },
   "file_extension": ".py",
   "mimetype": "text/x-python",
   "name": "python",
   "nbconvert_exporter": "python",
   "pygments_lexer": "ipython3",
   "version": "3.11.6"
  }
 },
 "nbformat": 4,
 "nbformat_minor": 2
}
