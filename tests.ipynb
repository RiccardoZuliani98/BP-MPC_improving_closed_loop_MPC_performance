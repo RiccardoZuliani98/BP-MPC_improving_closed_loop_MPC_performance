{
 "cells": [
  {
   "cell_type": "code",
   "execution_count": null,
   "metadata": {},
   "outputs": [],
   "source": [
    "### IMPORTS\n",
    "from myDiffQP import *\n",
    "from myScenarios import *\n",
    "from casadi import *"
   ]
  },
  {
   "cell_type": "code",
   "execution_count": null,
   "metadata": {},
   "outputs": [],
   "source": [
    "### Setup problem and QP\n",
    "\n",
    "# choose scenario\n",
    "problem = linear_gd.scenario()\n",
    "\n",
    "# create diffQP object\n",
    "QP = diffQP.diffQP(problem)"
   ]
  },
  {
   "cell_type": "code",
   "execution_count": null,
   "metadata": {},
   "outputs": [],
   "source": [
    "### TESTING ---------------------------------------------------------------------------\n",
    "\n",
    "# change initial state\n",
    "# problem['init']['x0'] = [vertcat(8,0)]\n",
    "\n",
    "# run closed-loop tests\n",
    "testDiffQP.testClosedLoop(QP,problem)\n",
    "\n",
    "# run Jacobian tests\n",
    "testDiffQP.testConsJacClosedLoop(QP,problem)\n",
    "testDiffQP.testConsJac(QP,problem)\n",
    "\n",
    "# test dual\n",
    "testDiffQP.testDual(QP,problem)\n",
    "\n",
    "# cleanup\n",
    "cleanup.cleanup()"
   ]
  }
 ],
 "metadata": {
  "kernelspec": {
   "display_name": "venv_backprop",
   "language": "python",
   "name": "python3"
  },
  "language_info": {
   "codemirror_mode": {
    "name": "ipython",
    "version": 3
   },
   "file_extension": ".py",
   "mimetype": "text/x-python",
   "name": "python",
   "nbconvert_exporter": "python",
   "pygments_lexer": "ipython3",
   "version": "3.11.6"
  }
 },
 "nbformat": 4,
 "nbformat_minor": 2
}
