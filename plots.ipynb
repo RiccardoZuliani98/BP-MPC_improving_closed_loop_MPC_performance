{
 "cells": [
  {
   "cell_type": "code",
   "execution_count": null,
   "metadata": {},
   "outputs": [],
   "source": [
    "import pickle\n",
    "from myDiffQP import *\n",
    "from myScenarios import *\n",
    "\n",
    "# problem = linear_gd.scenario()\n",
    "# problem = linear_gd_2.scenario()\n",
    "# problem = nonlinear_gd.scenario()\n",
    "# problem = nonlinear_gd_2.scenario()\n",
    "# problem = nonlinearSlack.scenario()\n",
    "problem = nonlinearSlackPenalized.scenario()\n",
    "\n",
    "file_name = 'Simulations/' + problem['name'] + '.pkl'\n",
    "\n",
    "with open(file_name,'rb') as fp:\n",
    "    data = pickle.load(fp)\n",
    "\n",
    "# save figures\n",
    "# saveFig = True\n",
    "\n",
    "# plot\n",
    "# plotter.closedLoopPlots(data,problem['plot'],saveFig,problem['name'])\n",
    "print(data['cost'][-1])\n",
    "print(data['opt_cost'])\n",
    "print(data['comp_time'])\n",
    "print(data['p_final'])"
   ]
  }
 ],
 "metadata": {
  "kernelspec": {
   "display_name": "venv_backprop",
   "language": "python",
   "name": "python3"
  },
  "language_info": {
   "codemirror_mode": {
    "name": "ipython",
    "version": 3
   },
   "file_extension": ".py",
   "mimetype": "text/x-python",
   "name": "python",
   "nbconvert_exporter": "python",
   "pygments_lexer": "ipython3",
   "version": "3.11.6"
  }
 },
 "nbformat": 4,
 "nbformat_minor": 2
}
