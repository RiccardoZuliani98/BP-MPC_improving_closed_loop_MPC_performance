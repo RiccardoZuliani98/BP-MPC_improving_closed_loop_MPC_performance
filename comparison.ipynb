{
 "cells": [
  {
   "cell_type": "code",
   "execution_count": null,
   "metadata": {},
   "outputs": [],
   "source": [
    "### IMPORTS\n",
    "from myDiffQP import *\n",
    "from myScenarios import *\n",
    "import pickle\n",
    "\n",
    "file_name = 'Simulations/' + 'linear_gd_2' + '.pkl'\n",
    "with open(file_name,'rb') as fp:    \n",
    "    linear_gd_data_2 = pickle.load(fp)\n",
    "file_name = 'Simulations/' + 'linear_gd' + '.pkl'\n",
    "with open(file_name,'rb') as fp:    \n",
    "    linear_gd_data_1 = pickle.load(fp)\n",
    "\n",
    "file_name = 'Simulations/' + 'nonlinear_gd_2' + '.pkl'\n",
    "with open(file_name,'rb') as fp:    \n",
    "    nonlinear_gd_data_2 = pickle.load(fp)\n",
    "file_name = 'Simulations/' + 'nonlinear_gd' + '.pkl'\n",
    "with open(file_name,'rb') as fp:    \n",
    "    nonlinear_gd_data_1 = pickle.load(fp)"
   ]
  },
  {
   "cell_type": "code",
   "execution_count": null,
   "metadata": {},
   "outputs": [],
   "source": [
    "### PLOT 1 => linear\n",
    "\n",
    "# get problem\n",
    "linear_problem = linear_gd.scenario()\n",
    "\n",
    "# save figure\n",
    "saveFig = True\n",
    "\n",
    "# generate plots\n",
    "plotter.iterPlot(linear_gd_data_1,linear_gd_data_2,linear_problem['plot'],saveFig,'linear')"
   ]
  },
  {
   "cell_type": "code",
   "execution_count": null,
   "metadata": {},
   "outputs": [],
   "source": [
    "### PLOT 2 => nonlinear\n",
    "\n",
    "# get problem\n",
    "nonlinear_problem = nonlinear_gd.scenario()\n",
    "\n",
    "# save figure\n",
    "saveFig = True\n",
    "\n",
    "# generate plots\n",
    "plotter.iterPlot(nonlinear_gd_data_1,nonlinear_gd_data_2,nonlinear_problem['plot'],saveFig,'nonlinear')"
   ]
  }
 ],
 "metadata": {
  "kernelspec": {
   "display_name": "venv_backprop",
   "language": "python",
   "name": "python3"
  },
  "language_info": {
   "codemirror_mode": {
    "name": "ipython",
    "version": 3
   },
   "file_extension": ".py",
   "mimetype": "text/x-python",
   "name": "python",
   "nbconvert_exporter": "python",
   "pygments_lexer": "ipython3",
   "version": "3.11.6"
  }
 },
 "nbformat": 4,
 "nbformat_minor": 2
}
